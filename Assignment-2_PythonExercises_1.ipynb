{
  "nbformat": 4,
  "nbformat_minor": 0,
  "metadata": {
    "colab": {
      "provenance": [],
      "authorship_tag": "ABX9TyPxo+SzUuohqqnkrurbC1Wg",
      "include_colab_link": true
    },
    "kernelspec": {
      "name": "python3",
      "display_name": "Python 3"
    },
    "language_info": {
      "name": "python"
    }
  },
  "cells": [
    {
      "cell_type": "markdown",
      "metadata": {
        "id": "view-in-github",
        "colab_type": "text"
      },
      "source": [
        "<a href=\"https://colab.research.google.com/github/alonso4763/IA_IB_199425/blob/main/Assignment-2_PythonExercises_1.ipynb\" target=\"_parent\"><img src=\"https://colab.research.google.com/assets/colab-badge.svg\" alt=\"Open In Colab\"/></a>"
      ]
    },
    {
      "cell_type": "code",
      "execution_count": 1,
      "metadata": {
        "id": "hlJjspXuAiZb",
        "colab": {
          "base_uri": "https://localhost:8080/"
        },
        "outputId": "44e972a1-f1c7-4c38-ea01-efac43a7dd32"
      },
      "outputs": [
        {
          "output_type": "stream",
          "name": "stdout",
          "text": [
            "Ingrese el texto que deseas analizar: hola amigo\n",
            "El número de palabras es de: 2\n",
            "El número de oraciones es de: 1\n",
            "el número de párrafos es de: 1\n"
          ]
        }
      ],
      "source": [
        "import re\n",
        "\n",
        "#Count the number of word\n",
        "def palabras(ingresa_texto):\n",
        "    palabras = re.findall(r'\\b\\w+\\b', ingresa_texto.lower())\n",
        "    return len(palabras), palabras\n",
        "\n",
        "#Count the number of sentences\n",
        "def oraciones(ingresa_texto):\n",
        "    oraciones = re.split(r'[.!?]+', ingresa_texto)\n",
        "    oraciones = [s for s in oraciones if s.strip()]\n",
        "    return len(oraciones)\n",
        "\n",
        "def parrafos(ingresa_texto):\n",
        "    parrafos = ingresa_texto.split('\\n\\n')\n",
        "    parrafos = [p for p in parrafos if p.strip()]\n",
        "    return len(parrafos)\n",
        "\n",
        "def operacion(ingresa_texto):\n",
        "    numero_palabras, palabra = palabras(ingresa_texto)\n",
        "    numero_oracion = oraciones(ingresa_texto)\n",
        "    numero_parrafo = parrafos(ingresa_texto)\n",
        "\n",
        "    print(f\"El número de palabras es de: {numero_palabras}\")\n",
        "    print(f\"El número de oraciones es de: {numero_oracion}\")\n",
        "    print(f\"el número de párrafos es de: {numero_parrafo}\")\n",
        "\n",
        "if __name__ == \"__main__\":\n",
        "    ingresa_texto = input(\"Ingrese el texto que deseas analizar: \")\n",
        "    operacion(ingresa_texto)"
      ]
    }
  ]
}