{
  "nbformat": 4,
  "nbformat_minor": 0,
  "metadata": {
    "colab": {
      "provenance": [],
      "authorship_tag": "ABX9TyMH/FzeEdbyaFxWhU2B+Yrz",
      "include_colab_link": true
    },
    "kernelspec": {
      "name": "python3",
      "display_name": "Python 3"
    },
    "language_info": {
      "name": "python"
    }
  },
  "cells": [
    {
      "cell_type": "markdown",
      "metadata": {
        "id": "view-in-github",
        "colab_type": "text"
      },
      "source": [
        "<a href=\"https://colab.research.google.com/github/alonso4763/IA_IB_199425/blob/main/Assigments/Assignment_2_PythonExercises_1.ipynb\" target=\"_parent\"><img src=\"https://colab.research.google.com/assets/colab-badge.svg\" alt=\"Open In Colab\"/></a>"
      ]
    },
    {
      "cell_type": "code",
      "execution_count": 3,
      "metadata": {
        "id": "hlJjspXuAiZb",
        "colab": {
          "base_uri": "https://localhost:8080/"
        },
        "outputId": "fb24a58e-befb-4410-e4d2-506b8b70771c"
      },
      "outputs": [
        {
          "output_type": "stream",
          "name": "stdout",
          "text": [
            "Enter the text: Have a good day\n",
            "The number of words: 4\n",
            "number of sentences : 1\n",
            "number of paragraphs: 1\n"
          ]
        }
      ],
      "source": [
        "# EXERCISE 1: Text Analysis Tool: Create a Python program that reads a text file and performs various analyses on its content.\n",
        "#The program should: Count the number of words, sentences, and paragraphs. Calculate the average word length.\n",
        "#Identify the most common words and their frequencies.\n",
        "\n",
        "import re  # to use regular expressions\n",
        "\n",
        "# Function that counts the number of words in the entered text\n",
        "def contar_palabras(texto):\n",
        "    palabras_encontradas = re.findall(r'\\b\\w+\\b', texto.lower())\n",
        "    return len(palabras_encontradas), palabras_encontradas  # Returns the number of words and the list of words\n",
        "\n",
        "# Function that counts the number of sentences in the input text\n",
        "def contar_oraciones(texto):\n",
        "    oraciones_encontradas = re.split(r'[.!?]+', texto)\n",
        "    # Eliminates possible empty sentences\n",
        "    oraciones_limpias = [oracion for oracion in oraciones_encontradas if oracion.strip()]\n",
        "    return len(oraciones_limpias)\n",
        "\n",
        "# Function that counts the number of paragraphs in the input text\n",
        "def contar_parrafos(texto):\n",
        "    parrafos_encontrados = texto.split('\\n\\n')\n",
        "    parrafos_limpios = [parrafo for parrafo in parrafos_encontrados if parrafo.strip()]\n",
        "    return len(parrafos_limpios)\n",
        "\n",
        "# Function that performs the operation of counting words, sentences and paragraphs.\n",
        "def analizar_texto(texto):\n",
        "    numero_palabras, lista_palabras = contar_palabras(texto)\n",
        "    numero_oraciones = contar_oraciones(texto)\n",
        "    numero_parrafos = contar_parrafos(texto)\n",
        "\n",
        "    # Print the results\n",
        "    print(f\"The number of words: {numero_palabras}\")\n",
        "    print(f\"number of sentences : {numero_oraciones}\")\n",
        "    print(f\"number of paragraphs: {numero_parrafos}\")\n",
        "\n",
        "# Main program entry point\n",
        "if __name__ == \"__main__\":\n",
        "    # Ask the user for a text\n",
        "    texto_usuario = input(\"Enter the text: \")\n",
        "    analizar_texto(texto_usuario)\n"
      ]
    },
    {
      "cell_type": "code",
      "source": [
        "#EXERCISE 2: Hangman Game: Create a Python program that allows a user to play the game of Hangman.\n",
        "#The program should randomly select a word from a predefined list, and the player must guess letters\n",
        "#one at a time until they guess the word correctly or run out of attempts.\n",
        "\n",
        "import random  # For a random word\n",
        "\n",
        "# Lista de palabras predefinidas para el juego\n",
        "palabras = ['cat', 'dog', 'fish', 'chair', 'mom']\n",
        "# Función principal del juego\n",
        "def jugar_ahorcado():\n",
        "    # Selecciona una palabra al azar de la lista\n",
        "    palabra_secreta = random.choice(palabras)\n",
        "    letras_adivinadas = []  # Lista para guardar las letras que el jugador ha adivinado\n",
        "    intentos_restantes = 10  # Number of attemps\n",
        "    palabra_oculta = ['_'] * len(palabra_secreta)  # To hide the words\n",
        "\n",
        "    print(\"¡Ready yo play Hangman!\")\n",
        "    print(\" \".join(palabra_oculta))\n",
        "    # Bucle principal del juego\n",
        "    while intentos_restantes > 0:\n",
        "        # Prompts the player to enter a letter\n",
        "        letra = input(\"Adivina una letra: \").lower()\n",
        "\n",
        "        # Check if the player has already guessed that letter.\n",
        "        if letra in letras_adivinadas:\n",
        "            print(f\"Ya has adivinado la letra '{letra}'. Intenta con otra.\")\n",
        "            continue\n",
        "        # Agrega la letra a la lista de letras adivinadas\n",
        "        letras_adivinadas.append(letra)\n",
        "        # Checks if the letter is in the secret word\n",
        "        if letra in palabra_secreta:\n",
        "            # Updates the word with the guessed letters\n",
        "            for indice, letra_secreta in enumerate(palabra_secreta):\n",
        "                if letra_secreta == letra:\n",
        "                    palabra_oculta[indice] = letra\n",
        "            print(\"¡Correct!\")\n",
        "        else:\n",
        "            # If the letter is not in the secret word, subtract one attempt.\n",
        "            intentos_restantes -= 1\n",
        "            print(f\"Wrong letter. Attemps missing {intentos_restantes}.\")\n",
        "\n",
        "        # Displays the current status of the word\n",
        "        print(\" \".join(palabra_oculta))\n",
        "\n",
        "        # Checks if the player has guessed the whole word\n",
        "        if '_' not in palabra_oculta:\n",
        "            print(\"Congratulations! You guessed the word correctly.\")\n",
        "            break\n",
        "\n",
        "    # If the player runs out of tries, he/she displays the secret word\n",
        "    if intentos_restantes == 0:\n",
        "        print(f\"Sorry, you've run out of attempts. The word was '{palabra_secreta}'.\")\n",
        "\n",
        "# Punto de entrada del programa\n",
        "if __name__ == \"__main__\":\n",
        "    jugar_ahorcado()  # Start the game\n",
        "\n"
      ],
      "metadata": {
        "colab": {
          "base_uri": "https://localhost:8080/"
        },
        "id": "x-LSf8OR-Tvb",
        "outputId": "0116d79c-f516-4605-da20-8efcb77a987f"
      },
      "execution_count": 8,
      "outputs": [
        {
          "output_type": "stream",
          "name": "stdout",
          "text": [
            "¡Ready yo play Hangman!\n",
            "_ _ _\n",
            "Adivina una letra: a\n",
            "¡Correct!\n",
            "_ a _\n",
            "Adivina una letra: c\n",
            "¡Correct!\n",
            "c a _\n",
            "Adivina una letra: t\n",
            "¡Correct!\n",
            "c a t\n",
            "Congratulations! You guessed the word correctly.\n"
          ]
        }
      ]
    },
    {
      "cell_type": "code",
      "source": [
        "# EXERCISE 3: Number Guessing Game: Create a program that generates a random number between 1 and 100, and then asks the user to guess the number.\n",
        "#The program should provide hints to the user if the guessed number is greater or less than the target number,\n",
        "#and keep asking for a new guess until the user guesses correctly.\n",
        "\n",
        "import random  # Import the random module to generate a random number\n",
        "\n",
        "# Generate a random number between 1 and 100\n",
        "target_number = random.randint(1, 100)\n",
        "\n",
        "# Set the limit of attempts\n",
        "attempt_limit = 10\n",
        "\n",
        "# Loop to allow the user to keep guessing until they guess correctly or run out of attempts\n",
        "for current_attempt in range(1, attempt_limit + 1):\n",
        "    # Ask the user to enter their guess\n",
        "    guess = int(input(f\"Attempt {current_attempt} of {attempt_limit}. Guess a number between 1 and 100: \"))\n",
        "\n",
        "    # Check if the guess is higher, lower, or equal to the target number\n",
        "    if guess > target_number:\n",
        "        print(\"Too high, try again.\")\n",
        "    elif guess < target_number:\n",
        "        print(\"Too low, try again.\")\n",
        "    else:\n",
        "        print(\"Congratulations! You guessed the number correctly.\")\n",
        "        break  # Exit the loop when the number is guessed correctly\n",
        "else:\n",
        "    # If the user reaches the attempt limit, show the correct number\n",
        "    print(f\"Sorry, you're out of attempts. The number you needed to guess was {target_number}.\")\n",
        "\n",
        "\n"
      ],
      "metadata": {
        "colab": {
          "base_uri": "https://localhost:8080/"
        },
        "id": "ABei_O8SF2xs",
        "outputId": "dc0b0a29-1f5c-42a9-9542-451f6a4f3fa9"
      },
      "execution_count": 13,
      "outputs": [
        {
          "output_type": "stream",
          "name": "stdout",
          "text": [
            "Attempt 1 of 10. Guess a number between 1 and 100: 1\n",
            "Too low, try again.\n",
            "Attempt 2 of 10. Guess a number between 1 and 100: 60\n",
            "Too high, try again.\n",
            "Attempt 3 of 10. Guess a number between 1 and 100: 50\n",
            "Too high, try again.\n",
            "Attempt 4 of 10. Guess a number between 1 and 100: 30\n",
            "Too low, try again.\n",
            "Attempt 5 of 10. Guess a number between 1 and 100: 37\n",
            "Too low, try again.\n",
            "Attempt 6 of 10. Guess a number between 1 and 100: 39\n",
            "Too low, try again.\n",
            "Attempt 7 of 10. Guess a number between 1 and 100: 40\n",
            "Too low, try again.\n",
            "Attempt 8 of 10. Guess a number between 1 and 100: 41\n",
            "Too low, try again.\n",
            "Attempt 9 of 10. Guess a number between 1 and 100: 57\n",
            "Too high, try again.\n",
            "Attempt 10 of 10. Guess a number between 1 and 100: 48\n",
            "Too high, try again.\n",
            "Sorry, you're out of attempts. The number you needed to guess was 42.\n"
          ]
        }
      ]
    }
  ]
}